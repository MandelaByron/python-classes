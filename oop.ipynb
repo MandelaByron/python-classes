{
 "cells": [
  {
   "cell_type": "code",
   "execution_count": 2,
   "id": "e5e749b9-a5ca-42b2-8391-0d5b380cc6e5",
   "metadata": {},
   "outputs": [],
   "source": [
    "class Animal():\n",
    "    pass"
   ]
  },
  {
   "cell_type": "code",
   "execution_count": 3,
   "id": "88d8778b-c162-42a8-b877-66d2547f01da",
   "metadata": {},
   "outputs": [],
   "source": [
    "dog = Animal()\n",
    "\n",
    "cat = Animal()"
   ]
  },
  {
   "cell_type": "code",
   "execution_count": 7,
   "id": "7eb9fbe8-f7ce-44c5-9ad1-63f3d7ef919c",
   "metadata": {},
   "outputs": [],
   "source": [
    "dog.name = 'Fluffy'\n",
    "\n",
    "cat.name = 'Kitty'\n",
    "\n",
    "dog.age = 5\n",
    "\n",
    "dog.owner = 'Mary'\n",
    "\n",
    "cat.owner = 'Kathy'\n",
    "\n",
    "cat.age = 2"
   ]
  },
  {
   "cell_type": "code",
   "execution_count": 8,
   "id": "0356b413-0ab6-498f-a963-561921d128ec",
   "metadata": {},
   "outputs": [
    {
     "data": {
      "text/plain": [
       "('Fluffy', 'Kitty', 5, 2, 'Mary', 'Kathy')"
      ]
     },
     "execution_count": 8,
     "metadata": {},
     "output_type": "execute_result"
    }
   ],
   "source": [
    "dog.name, cat.name, dog.age , cat.age, dog.owner, cat.owner"
   ]
  },
  {
   "cell_type": "code",
   "execution_count": 1,
   "id": "ed0226ae-8cda-4b4a-aee2-030bce050aad",
   "metadata": {},
   "outputs": [],
   "source": [
    "class Animal():\n",
    "    def __init__(self, name, age, owner):\n",
    "        self.name = name\n",
    "        self.age = age\n",
    "        self.owner = f'{name}\\'s owner is {self.owner} '\n",
    "        "
   ]
  },
  {
   "cell_type": "code",
   "execution_count": 7,
   "metadata": {},
   "outputs": [
    {
     "data": {
      "text/plain": [
       "\"Kitty's owner is Kathy \""
      ]
     },
     "execution_count": 7,
     "metadata": {},
     "output_type": "execute_result"
    }
   ],
   "source": [
    "cat = Animal('Kitty', 2, 'Kathy')\n",
    "\n",
    "cat.owner\n"
   ]
  },
  {
   "cell_type": "code",
   "execution_count": 10,
   "metadata": {},
   "outputs": [
    {
     "data": {
      "text/plain": [
       "\"Bosco's owner is Bob \""
      ]
     },
     "execution_count": 10,
     "metadata": {},
     "output_type": "execute_result"
    }
   ],
   "source": [
    "dog = Animal('Bosco', 10 , 'Bob')\n",
    "\n",
    "dog.age, dog.name\n",
    "\n",
    "dog.owner"
   ]
  },
  {
   "cell_type": "code",
   "execution_count": null,
   "metadata": {},
   "outputs": [],
   "source": []
  }
 ],
 "metadata": {
  "kernelspec": {
   "display_name": "Python 3 (ipykernel)",
   "language": "python",
   "name": "python3"
  },
  "language_info": {
   "codemirror_mode": {
    "name": "ipython",
    "version": 3
   },
   "file_extension": ".py",
   "mimetype": "text/x-python",
   "name": "python",
   "nbconvert_exporter": "python",
   "pygments_lexer": "ipython3",
   "version": "3.10.13"
  }
 },
 "nbformat": 4,
 "nbformat_minor": 5
}
